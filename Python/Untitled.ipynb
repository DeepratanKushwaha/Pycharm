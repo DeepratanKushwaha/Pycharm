{
 "cells": [
  {
   "cell_type": "code",
   "execution_count": null,
   "metadata": {},
   "outputs": [],
   "source": [
    "from threading import Thread\n",
    "\n",
    "class MyThread(Thread):\n",
    "    def __init__(self, name):\n",
    "        Thread.__init__(self)\n",
    "        self.name = name\n",
    "        \n",
    "    def run(self):\n",
    "        for i in range(10000000000):\n",
    "            msg = \"%s is running\" % \\\n",
    "                self.name\n",
    "            print(msg)\n",
    "            \n",
    "    \n",
    "def create_threads():\n",
    "    for i in range(1000000):\n",
    "        name = \"Thread #%s\" %(i+1)\n",
    "        my_thread = MyThread(name)\n",
    "        my_thread.start()\n",
    "        \n",
    "if __name__ == '__main__':\n",
    "    create_threads()"
   ]
  },
  {
   "cell_type": "code",
   "execution_count": null,
   "metadata": {},
   "outputs": [],
   "source": []
  },
  {
   "cell_type": "code",
   "execution_count": null,
   "metadata": {},
   "outputs": [],
   "source": []
  }
 ],
 "metadata": {
  "kernelspec": {
   "display_name": "Python 3",
   "language": "python",
   "name": "python3"
  },
  "language_info": {
   "codemirror_mode": {
    "name": "ipython",
    "version": 3
   },
   "file_extension": ".py",
   "mimetype": "text/x-python",
   "name": "python",
   "nbconvert_exporter": "python",
   "pygments_lexer": "ipython3",
   "version": "3.7.9"
  }
 },
 "nbformat": 4,
 "nbformat_minor": 4
}
